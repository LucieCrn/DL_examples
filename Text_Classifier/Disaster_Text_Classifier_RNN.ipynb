{
  "cells": [
    {
      "cell_type": "markdown",
      "metadata": {
        "id": "hX4n9TsbGw-f"
      },
      "source": [
        "##### Copyright 2018 The TensorFlow Authors."
      ]
    },
    {
      "cell_type": "markdown",
      "metadata": {
        "id": "9TnJztDZGw-n"
      },
      "source": [
        "##**Disaster events : Text classification with an RNN**##\n",
        "\n"
      ]
    },
    {
      "cell_type": "markdown",
      "metadata": {
        "id": "AfN3bMR5Gw-o"
      },
      "source": [
        "<table class=\"tfo-notebook-buttons\" align=\"left\">\n",
        "  <td>\n",
        "    <a target=\"_blank\" href=\"https://www.tensorflow.org/text/tutorials/text_classification_rnn\"><img src=\"https://www.tensorflow.org/images/tf_logo_32px.png\" />View on TensorFlow.org</a>\n",
        "  </td>\n",
        "  <td>\n",
        "    <a target=\"_blank\" href=\"https://colab.research.google.com/github/tensorflow/text/blob/master/docs/tutorials/text_classification_rnn.ipynb\"><img src=\"https://www.tensorflow.org/images/colab_logo_32px.png\" />Run in Google Colab</a>\n",
        "  </td>\n",
        "  <td>\n",
        "    <a target=\"_blank\" href=\"https://github.com/tensorflow/text/blob/master/docs/tutorials/text_classification_rnn.ipynb\"><img src=\"https://www.tensorflow.org/images/GitHub-Mark-32px.png\" />View source on GitHub</a>\n",
        "  </td>\n",
        "  <td>\n",
        "    <a href=\"https://storage.googleapis.com/tensorflow_docs/text/docs/tutorials/text_classification_rnn.ipynb\"><img src=\"https://www.tensorflow.org/images/download_logo_32px.png\" />Download notebook</a>\n",
        "  </td>\n",
        "</table>"
      ]
    },
    {
      "cell_type": "markdown",
      "metadata": {
        "id": "_2VQo4bajwUU"
      },
      "source": [
        "## Setup ##"
      ]
    },
    {
      "cell_type": "code",
      "source": [
        "from google.colab import drive\n",
        "drive.mount('/content/drive')"
      ],
      "metadata": {
        "id": "42p5UIjEdCOP",
        "colab": {
          "base_uri": "https://localhost:8080/"
        },
        "outputId": "73b44d57-b143-48fe-e4cf-cf19011a185b"
      },
      "execution_count": null,
      "outputs": [
        {
          "output_type": "stream",
          "name": "stdout",
          "text": [
            "Mounted at /content/drive\n"
          ]
        }
      ]
    },
    {
      "cell_type": "code",
      "execution_count": null,
      "metadata": {
        "id": "z682XYsrjkY9"
      },
      "outputs": [],
      "source": [
        "# Import the packages\n",
        "\n",
        "import numpy as np\n",
        "import tensorflow_datasets as tfds\n",
        "import tensorflow as tf\n",
        "from sklearn.metrics import confusion_matrix, accuracy_score\n",
        "from sklearn.metrics import precision_score, recall_score, f1_score, accuracy_score"
      ]
    },
    {
      "cell_type": "code",
      "source": [
        "# Download the data\n",
        "\n",
        "import pandas as pd\n",
        "dataset = pd.read_csv('/content/Project Dataset.csv')"
      ],
      "metadata": {
        "id": "A8t7zITUVn5M"
      },
      "execution_count": null,
      "outputs": []
    },
    {
      "cell_type": "code",
      "source": [
        "# Check the dataset\n",
        "\n",
        "dataset.info()"
      ],
      "metadata": {
        "colab": {
          "base_uri": "https://localhost:8080/"
        },
        "id": "VFR5zakMbLli",
        "outputId": "050039af-673b-411c-90ae-c3c33836603e"
      },
      "execution_count": null,
      "outputs": [
        {
          "output_type": "stream",
          "name": "stdout",
          "text": [
            "<class 'pandas.core.frame.DataFrame'>\n",
            "RangeIndex: 11370 entries, 0 to 11369\n",
            "Data columns (total 5 columns):\n",
            " #   Column    Non-Null Count  Dtype \n",
            "---  ------    --------------  ----- \n",
            " 0   id        11370 non-null  int64 \n",
            " 1   keyword   11370 non-null  object\n",
            " 2   location  7952 non-null   object\n",
            " 3   text      11370 non-null  object\n",
            " 4   target    11370 non-null  int64 \n",
            "dtypes: int64(2), object(3)\n",
            "memory usage: 444.3+ KB\n"
          ]
        }
      ]
    },
    {
      "cell_type": "markdown",
      "source": [
        "## Data preparation ##"
      ],
      "metadata": {
        "id": "QMI7Oe9JvVNs"
      }
    },
    {
      "cell_type": "code",
      "source": [
        "# We remove id, keyword and location columns\n",
        "\n",
        "dataset = dataset.drop(columns=['id', 'keyword', 'location'])"
      ],
      "metadata": {
        "id": "bZsG8G3bbOu1"
      },
      "execution_count": null,
      "outputs": []
    },
    {
      "cell_type": "code",
      "execution_count": null,
      "metadata": {
        "id": "Mp1Z7P9pYRSK"
      },
      "outputs": [],
      "source": [
        "# Initalize the graph function\n",
        "\n",
        "import matplotlib.pyplot as plt\n",
        "\n",
        "\n",
        "def plot_graphs(history, metric):\n",
        "  plt.plot(history.history[metric])\n",
        "  plt.plot(history.history['val_'+metric], '')\n",
        "  plt.xlabel(\"Epochs\")\n",
        "  plt.ylabel(metric)\n",
        "  plt.legend([metric, 'val_'+metric])"
      ]
    },
    {
      "cell_type": "code",
      "source": [
        "# We check again the dataset with the removed columns\n",
        "\n",
        "dataset.head()"
      ],
      "metadata": {
        "colab": {
          "base_uri": "https://localhost:8080/",
          "height": 206
        },
        "id": "kARAHLpWrt-b",
        "outputId": "2233ecd3-aff1-4720-dedd-f109b5681407"
      },
      "execution_count": null,
      "outputs": [
        {
          "output_type": "execute_result",
          "data": {
            "text/html": [
              "\n",
              "  <div id=\"df-b49942b8-5b2c-42f8-b2e8-0c3f27e3f2a3\">\n",
              "    <div class=\"colab-df-container\">\n",
              "      <div>\n",
              "<style scoped>\n",
              "    .dataframe tbody tr th:only-of-type {\n",
              "        vertical-align: middle;\n",
              "    }\n",
              "\n",
              "    .dataframe tbody tr th {\n",
              "        vertical-align: top;\n",
              "    }\n",
              "\n",
              "    .dataframe thead th {\n",
              "        text-align: right;\n",
              "    }\n",
              "</style>\n",
              "<table border=\"1\" class=\"dataframe\">\n",
              "  <thead>\n",
              "    <tr style=\"text-align: right;\">\n",
              "      <th></th>\n",
              "      <th>text</th>\n",
              "      <th>target</th>\n",
              "    </tr>\n",
              "  </thead>\n",
              "  <tbody>\n",
              "    <tr>\n",
              "      <th>0</th>\n",
              "      <td>Communal violence in Bhainsa, Telangana. \"Ston...</td>\n",
              "      <td>1</td>\n",
              "    </tr>\n",
              "    <tr>\n",
              "      <th>1</th>\n",
              "      <td>Telangana: Section 144 has been imposed in Bha...</td>\n",
              "      <td>1</td>\n",
              "    </tr>\n",
              "    <tr>\n",
              "      <th>2</th>\n",
              "      <td>Arsonist sets cars ablaze at dealership https:...</td>\n",
              "      <td>1</td>\n",
              "    </tr>\n",
              "    <tr>\n",
              "      <th>3</th>\n",
              "      <td>Arsonist sets cars ablaze at dealership https:...</td>\n",
              "      <td>1</td>\n",
              "    </tr>\n",
              "    <tr>\n",
              "      <th>4</th>\n",
              "      <td>\"Lord Jesus, your love brings freedom and pard...</td>\n",
              "      <td>0</td>\n",
              "    </tr>\n",
              "  </tbody>\n",
              "</table>\n",
              "</div>\n",
              "      <button class=\"colab-df-convert\" onclick=\"convertToInteractive('df-b49942b8-5b2c-42f8-b2e8-0c3f27e3f2a3')\"\n",
              "              title=\"Convert this dataframe to an interactive table.\"\n",
              "              style=\"display:none;\">\n",
              "        \n",
              "  <svg xmlns=\"http://www.w3.org/2000/svg\" height=\"24px\"viewBox=\"0 0 24 24\"\n",
              "       width=\"24px\">\n",
              "    <path d=\"M0 0h24v24H0V0z\" fill=\"none\"/>\n",
              "    <path d=\"M18.56 5.44l.94 2.06.94-2.06 2.06-.94-2.06-.94-.94-2.06-.94 2.06-2.06.94zm-11 1L8.5 8.5l.94-2.06 2.06-.94-2.06-.94L8.5 2.5l-.94 2.06-2.06.94zm10 10l.94 2.06.94-2.06 2.06-.94-2.06-.94-.94-2.06-.94 2.06-2.06.94z\"/><path d=\"M17.41 7.96l-1.37-1.37c-.4-.4-.92-.59-1.43-.59-.52 0-1.04.2-1.43.59L10.3 9.45l-7.72 7.72c-.78.78-.78 2.05 0 2.83L4 21.41c.39.39.9.59 1.41.59.51 0 1.02-.2 1.41-.59l7.78-7.78 2.81-2.81c.8-.78.8-2.07 0-2.86zM5.41 20L4 18.59l7.72-7.72 1.47 1.35L5.41 20z\"/>\n",
              "  </svg>\n",
              "      </button>\n",
              "      \n",
              "  <style>\n",
              "    .colab-df-container {\n",
              "      display:flex;\n",
              "      flex-wrap:wrap;\n",
              "      gap: 12px;\n",
              "    }\n",
              "\n",
              "    .colab-df-convert {\n",
              "      background-color: #E8F0FE;\n",
              "      border: none;\n",
              "      border-radius: 50%;\n",
              "      cursor: pointer;\n",
              "      display: none;\n",
              "      fill: #1967D2;\n",
              "      height: 32px;\n",
              "      padding: 0 0 0 0;\n",
              "      width: 32px;\n",
              "    }\n",
              "\n",
              "    .colab-df-convert:hover {\n",
              "      background-color: #E2EBFA;\n",
              "      box-shadow: 0px 1px 2px rgba(60, 64, 67, 0.3), 0px 1px 3px 1px rgba(60, 64, 67, 0.15);\n",
              "      fill: #174EA6;\n",
              "    }\n",
              "\n",
              "    [theme=dark] .colab-df-convert {\n",
              "      background-color: #3B4455;\n",
              "      fill: #D2E3FC;\n",
              "    }\n",
              "\n",
              "    [theme=dark] .colab-df-convert:hover {\n",
              "      background-color: #434B5C;\n",
              "      box-shadow: 0px 1px 3px 1px rgba(0, 0, 0, 0.15);\n",
              "      filter: drop-shadow(0px 1px 2px rgba(0, 0, 0, 0.3));\n",
              "      fill: #FFFFFF;\n",
              "    }\n",
              "  </style>\n",
              "\n",
              "      <script>\n",
              "        const buttonEl =\n",
              "          document.querySelector('#df-b49942b8-5b2c-42f8-b2e8-0c3f27e3f2a3 button.colab-df-convert');\n",
              "        buttonEl.style.display =\n",
              "          google.colab.kernel.accessAllowed ? 'block' : 'none';\n",
              "\n",
              "        async function convertToInteractive(key) {\n",
              "          const element = document.querySelector('#df-b49942b8-5b2c-42f8-b2e8-0c3f27e3f2a3');\n",
              "          const dataTable =\n",
              "            await google.colab.kernel.invokeFunction('convertToInteractive',\n",
              "                                                     [key], {});\n",
              "          if (!dataTable) return;\n",
              "\n",
              "          const docLinkHtml = 'Like what you see? Visit the ' +\n",
              "            '<a target=\"_blank\" href=https://colab.research.google.com/notebooks/data_table.ipynb>data table notebook</a>'\n",
              "            + ' to learn more about interactive tables.';\n",
              "          element.innerHTML = '';\n",
              "          dataTable['output_type'] = 'display_data';\n",
              "          await google.colab.output.renderOutput(dataTable, element);\n",
              "          const docLink = document.createElement('div');\n",
              "          docLink.innerHTML = docLinkHtml;\n",
              "          element.appendChild(docLink);\n",
              "        }\n",
              "      </script>\n",
              "    </div>\n",
              "  </div>\n",
              "  "
            ],
            "text/plain": [
              "                                                text  target\n",
              "0  Communal violence in Bhainsa, Telangana. \"Ston...       1\n",
              "1  Telangana: Section 144 has been imposed in Bha...       1\n",
              "2  Arsonist sets cars ablaze at dealership https:...       1\n",
              "3  Arsonist sets cars ablaze at dealership https:...       1\n",
              "4  \"Lord Jesus, your love brings freedom and pard...       0"
            ]
          },
          "metadata": {},
          "execution_count": 9
        }
      ]
    },
    {
      "cell_type": "code",
      "source": [
        "# We transform the data in DataFrame\n",
        "\n",
        "dataset = pd.DataFrame(dataset)\n",
        "Text = dataset[\"text\"]\n",
        "Target = dataset[\"target\"]\n",
        "\n",
        "# We split the data into train and test samples\n",
        "\n",
        "from sklearn.model_selection import train_test_split\n",
        "\n",
        "text_train, text_test, target_train, target_test = train_test_split(Text, Target, test_size=0.15,stratify=Target)\n",
        "\n",
        "text_train_tensor = tf.convert_to_tensor(text_train,dtype=tf.string)\n",
        "target_train_tensor = tf.convert_to_tensor(target_train,dtype=tf.int32)\n",
        "\n",
        "text_test_tensor = tf.convert_to_tensor(text_test,dtype=tf.string)\n",
        "target_test_tensor = tf.convert_to_tensor(target_test,dtype=tf.int32)\n",
        "\n",
        "\n"
      ],
      "metadata": {
        "id": "6p1Z0pkGqhhl"
      },
      "execution_count": null,
      "outputs": []
    },
    {
      "cell_type": "code",
      "source": [
        "Train_dataset = tf.data.Dataset.from_tensor_slices((text_train_tensor, target_train_tensor))\n",
        "Test_dataset = tf.data.Dataset.from_tensor_slices((text_test_tensor, target_test))"
      ],
      "metadata": {
        "id": "wxW4vPJN9d-w"
      },
      "execution_count": null,
      "outputs": []
    },
    {
      "cell_type": "code",
      "execution_count": null,
      "metadata": {
        "id": "vd4_BGKyurao",
        "colab": {
          "base_uri": "https://localhost:8080/"
        },
        "outputId": "3ebf29b5-94b5-46f2-a980-829074632e02"
      },
      "outputs": [
        {
          "output_type": "stream",
          "name": "stdout",
          "text": [
            "text:  b'you got a smoke? ...got gum https://t.co/38rLncz6o3'\n",
            "label:  0\n"
          ]
        }
      ],
      "source": [
        "#  We associated the text with its labels\n",
        "\n",
        "for example, label in Train_dataset.take(1):\n",
        "  print('text: ', example.numpy())\n",
        "  print('label: ', label.numpy())"
      ]
    },
    {
      "cell_type": "code",
      "execution_count": null,
      "metadata": {
        "id": "dDsCaZCDYZgm"
      },
      "outputs": [],
      "source": [
        "# We create batches of text and labels pairs\n",
        "\n",
        "BUFFER_SIZE = 11370\n",
        "batch_size = 30"
      ]
    },
    {
      "cell_type": "code",
      "execution_count": null,
      "metadata": {
        "id": "VznrltNOnUc5"
      },
      "outputs": [],
      "source": [
        "Train_dataset = Train_dataset.shuffle(BUFFER_SIZE).batch(batch_size).prefetch(tf.data.AUTOTUNE)\n",
        "Test_dataset = Test_dataset.batch(batch_size).prefetch(tf.data.AUTOTUNE)"
      ]
    },
    {
      "cell_type": "code",
      "execution_count": null,
      "metadata": {
        "id": "jqkvdcFv41wC",
        "colab": {
          "base_uri": "https://localhost:8080/"
        },
        "outputId": "c5853125-917f-40d4-acc7-6bd4532b541a"
      },
      "outputs": [
        {
          "output_type": "stream",
          "name": "stdout",
          "text": [
            "texts:  [b'Burning up firee ~~ #ALABTopSpotONMYX #PUSHAwardsATIN #SB19atWMA2020'\n",
            " b'Have you seen our current exhibition yet?! An explosion of colour from pupils at with their exhibition \\xe2\\x80\\x9cM\\xe2\\x80\\xa6'\n",
            " b\"Blanket secrecy' surrounds Australian weapons sales to countries accused of war crimes https://t.co/ko6nqZs61d\"]\n",
            "\n",
            "labels:  [0 0 1]\n"
          ]
        }
      ],
      "source": [
        "for example, label in Train_dataset.take(1):\n",
        "  print('texts: ', example.numpy()[:3])\n",
        "  print()\n",
        "  print('labels: ', label.numpy()[:3])"
      ]
    },
    {
      "cell_type": "code",
      "execution_count": null,
      "metadata": {
        "id": "uC25Lu1Yvuqy"
      },
      "outputs": [],
      "source": [
        "# We create the label encoder using TextVectorization\n",
        "\n",
        "VOCAB_SIZE = 1000\n",
        "encoder = tf.keras.layers.TextVectorization(\n",
        "    max_tokens=VOCAB_SIZE)\n",
        "encoder.adapt(Train_dataset.map(lambda text, target: text))"
      ]
    },
    {
      "cell_type": "code",
      "execution_count": null,
      "metadata": {
        "id": "tBoyjjWg0Ac9",
        "colab": {
          "base_uri": "https://localhost:8080/"
        },
        "outputId": "3ce91b9c-31ba-41dd-c970-0862296f119b"
      },
      "outputs": [
        {
          "output_type": "execute_result",
          "data": {
            "text/plain": [
              "array(['', '[UNK]', 'the', 'to', 'a', 'of', 'in', 'and', 'is', 'i', 'for',\n",
              "       'on', 'you', 'that', 'this', 'with', 'it', 'are', 'my', 'at'],\n",
              "      dtype='<U12')"
            ]
          },
          "metadata": {},
          "execution_count": 18
        }
      ],
      "source": [
        "# We display the first 20 tokens\n",
        "\n",
        "vocab = np.array(encoder.get_vocabulary())\n",
        "vocab[:20]"
      ]
    },
    {
      "cell_type": "code",
      "execution_count": null,
      "metadata": {
        "id": "RGc7C9WiwRWs",
        "colab": {
          "base_uri": "https://localhost:8080/"
        },
        "outputId": "fef5fe1b-f5a2-4eb9-9fb6-4729c59b3568"
      },
      "outputs": [
        {
          "output_type": "execute_result",
          "data": {
            "text/plain": [
              "array([[181,  47,   1,   1,   1,   1,   0,   0,   0,   0,   0,   0,   0,\n",
              "          0,   0,   0,   0,   0,   0,   0,   0,   0,   0,   0,   0],\n",
              "       [ 21,  12, 419,  56, 662,   1, 265,  30, 685,   5,   1,  22,   1,\n",
              "         19,  15,  59,   1,   1,   0,   0,   0,   0,   0,   0,   0],\n",
              "       [  1,   1,   1, 243, 521,   1,   3,   1,   1,   5, 209,   1,   1,\n",
              "          0,   0,   0,   0,   0,   0,   0,   0,   0,   0,   0,   0]])"
            ]
          },
          "metadata": {},
          "execution_count": 19
        }
      ],
      "source": [
        "# Then we encode the text into indices \n",
        "\n",
        "encoded_example = encoder(example)[:3].numpy()\n",
        "encoded_example"
      ]
    },
    {
      "cell_type": "code",
      "execution_count": null,
      "metadata": {
        "id": "N_tD0QY5wXaK",
        "colab": {
          "base_uri": "https://localhost:8080/"
        },
        "outputId": "16d6b1d4-d4e4-421e-b17d-e9c424c05225"
      },
      "outputs": [
        {
          "output_type": "stream",
          "name": "stdout",
          "text": [
            "Original:  b'Burning up firee ~~ #ALABTopSpotONMYX #PUSHAwardsATIN #SB19atWMA2020'\n",
            "Round-trip:  burning up [UNK] [UNK] [UNK] [UNK]                   \n",
            "\n",
            "Original:  b'Have you seen our current exhibition yet?! An explosion of colour from pupils at with their exhibition \\xe2\\x80\\x9cM\\xe2\\x80\\xa6'\n",
            "Round-trip:  have you seen our current [UNK] yet an explosion of [UNK] from [UNK] at with their [UNK] [UNK]       \n",
            "\n",
            "Original:  b\"Blanket secrecy' surrounds Australian weapons sales to countries accused of war crimes https://t.co/ko6nqZs61d\"\n",
            "Round-trip:  [UNK] [UNK] [UNK] australian weapons [UNK] to [UNK] [UNK] of war [UNK] [UNK]            \n",
            "\n"
          ]
        }
      ],
      "source": [
        "for n in range(3):\n",
        "  print(\"Original: \", example[n].numpy())\n",
        "  print(\"Round-trip: \", \" \".join(vocab[encoded_example[n]]))\n",
        "  print()"
      ]
    },
    {
      "cell_type": "markdown",
      "source": [
        "## RNN Models"
      ],
      "metadata": {
        "id": "E5h2Mp5OvdwR"
      }
    },
    {
      "cell_type": "code",
      "execution_count": null,
      "metadata": {
        "id": "LwfoBkmRYcP3"
      },
      "outputs": [],
      "source": [
        "## FIRST MODEL ##\n",
        "\n",
        "model = tf.keras.Sequential([\n",
        "    encoder,\n",
        "    tf.keras.layers.Embedding(\n",
        "        input_dim=len(encoder.get_vocabulary()),\n",
        "        output_dim=64, mask_zero=True),\n",
        "    tf.keras.layers.Bidirectional(tf.keras.layers.LSTM(64)),\n",
        "    tf.keras.layers.Dense(64, activation='relu'),\n",
        "    tf.keras.layers.Dense(1)\n",
        "])"
      ]
    },
    {
      "cell_type": "markdown",
      "metadata": {
        "id": "QIGmIGkkouUb"
      },
      "source": [
        "Please note that Keras sequential model is used here since all the layers in the model only have single input and produce single output. In case you want to use stateful RNN layer, you might want to build your model with Keras functional API or model subclassing so that you can retrieve and reuse the RNN layer states. Please check [Keras RNN guide](https://www.tensorflow.org/guide/keras/rnn#rnn_state_reuse) for more details."
      ]
    },
    {
      "cell_type": "markdown",
      "metadata": {
        "id": "kF-PsCk1LwjY"
      },
      "source": [
        "The embedding layer [uses masking](https://www.tensorflow.org/guide/keras/masking_and_padding) to handle the varying sequence-lengths. All the layers after the `Embedding` support masking:"
      ]
    },
    {
      "cell_type": "code",
      "execution_count": null,
      "metadata": {
        "id": "87a8-CwfKebw",
        "colab": {
          "base_uri": "https://localhost:8080/"
        },
        "outputId": "e6312e57-bae6-4d3f-deda-005490973718"
      },
      "outputs": [
        {
          "output_type": "stream",
          "name": "stdout",
          "text": [
            "[False, True, True, True, True]\n"
          ]
        }
      ],
      "source": [
        "print([layer.supports_masking for layer in model.layers])"
      ]
    },
    {
      "cell_type": "code",
      "execution_count": null,
      "metadata": {
        "id": "O41gw3KfWHus",
        "colab": {
          "base_uri": "https://localhost:8080/"
        },
        "outputId": "b52c4432-051b-4722-e1cb-a4e278162414"
      },
      "outputs": [
        {
          "output_type": "stream",
          "name": "stdout",
          "text": [
            "tf.Tensor([0.0116032], shape=(1,), dtype=float32)\n"
          ]
        }
      ],
      "source": [
        "# predict on a sample text without padding\n",
        "\n",
        "sample_text = ('Thank you to everyone who has bought a charity phone case so far to support the wildlife victims of Australia’s worst ever…')\n",
        "predictions = model(np.array([sample_text]))\n",
        "print(predictions[0])"
      ]
    },
    {
      "cell_type": "code",
      "execution_count": null,
      "metadata": {
        "id": "UIgpuTeFNDzq",
        "colab": {
          "base_uri": "https://localhost:8080/"
        },
        "outputId": "46ea43c4-24fd-4c36-95d4-f27f3896e989"
      },
      "outputs": [
        {
          "output_type": "stream",
          "name": "stdout",
          "text": [
            "tf.Tensor([0.0116032], shape=(1,), dtype=float32)\n"
          ]
        }
      ],
      "source": [
        "# predict on a sample text with padding\n",
        "\n",
        "padding = \"you\" * 2000\n",
        "predictions = model(np.array([sample_text, padding]))\n",
        "print(predictions[0])"
      ]
    },
    {
      "cell_type": "code",
      "execution_count": null,
      "metadata": {
        "id": "ZXgfQSgRW6zU"
      },
      "outputs": [],
      "source": [
        "sample_text = ('Thank you to everyone who has bought a charity phone case so far to support the wildlife victims of Australia’s worst ever…')\n",
        "predictions = model(np.array([sample_text]))"
      ]
    },
    {
      "cell_type": "code",
      "execution_count": null,
      "metadata": {
        "id": "kj2xei41YZjC"
      },
      "outputs": [],
      "source": [
        "# We configure the Keras model to the training process:\n",
        "\n",
        "model.compile(loss=tf.keras.losses.BinaryCrossentropy(from_logits=True),\n",
        "              optimizer=tf.keras.optimizers.Adam(1e-4),\n",
        "              metrics=['accuracy'])"
      ]
    },
    {
      "cell_type": "code",
      "execution_count": null,
      "metadata": {
        "id": "hw86wWS4YgR2",
        "colab": {
          "base_uri": "https://localhost:8080/"
        },
        "outputId": "821b7636-646a-4f3a-930e-ba8f37e3cae8"
      },
      "outputs": [
        {
          "output_type": "stream",
          "name": "stdout",
          "text": [
            "Epoch 1/10\n",
            "303/303 [==============================] - 22s 41ms/step - loss: 0.5392 - accuracy: 0.8133 - val_loss: 0.4685 - val_accuracy: 0.8139\n",
            "Epoch 2/10\n",
            "303/303 [==============================] - 9s 30ms/step - loss: 0.4150 - accuracy: 0.8150 - val_loss: 0.3790 - val_accuracy: 0.8188\n",
            "Epoch 3/10\n",
            "303/303 [==============================] - 9s 30ms/step - loss: 0.3259 - accuracy: 0.8676 - val_loss: 0.3346 - val_accuracy: 0.8776\n",
            "Epoch 4/10\n",
            "303/303 [==============================] - 9s 30ms/step - loss: 0.2923 - accuracy: 0.8840 - val_loss: 0.3261 - val_accuracy: 0.8758\n",
            "Epoch 5/10\n",
            "303/303 [==============================] - 10s 32ms/step - loss: 0.2624 - accuracy: 0.8962 - val_loss: 0.3226 - val_accuracy: 0.8704\n",
            "Epoch 6/10\n",
            "303/303 [==============================] - 9s 31ms/step - loss: 0.2636 - accuracy: 0.8968 - val_loss: 0.3340 - val_accuracy: 0.8718\n",
            "Epoch 7/10\n",
            "303/303 [==============================] - 10s 32ms/step - loss: 0.2523 - accuracy: 0.9023 - val_loss: 0.3293 - val_accuracy: 0.8811\n",
            "Epoch 8/10\n",
            "303/303 [==============================] - 9s 31ms/step - loss: 0.2533 - accuracy: 0.9023 - val_loss: 0.3314 - val_accuracy: 0.8811\n",
            "Epoch 9/10\n",
            "303/303 [==============================] - 9s 30ms/step - loss: 0.2383 - accuracy: 0.9099 - val_loss: 0.3397 - val_accuracy: 0.8789\n",
            "Epoch 10/10\n",
            "303/303 [==============================] - 9s 31ms/step - loss: 0.2369 - accuracy: 0.9115 - val_loss: 0.3480 - val_accuracy: 0.8767\n"
          ]
        }
      ],
      "source": [
        "# We train our first model\n",
        "\n",
        "history = model.fit(Train_dataset.repeat(),\n",
        "                    steps_per_epoch=int(9096/batch_size),\n",
        "                    epochs=10,\n",
        "                    validation_data=Test_dataset.repeat(),\n",
        "                    validation_steps=int(2274/batch_size))"
      ]
    },
    {
      "cell_type": "code",
      "execution_count": null,
      "metadata": {
        "id": "BaNbXi43YgUT",
        "colab": {
          "base_uri": "https://localhost:8080/"
        },
        "outputId": "e5405a28-bbf6-42fd-c55e-988b18f69d4d"
      },
      "outputs": [
        {
          "output_type": "stream",
          "name": "stdout",
          "text": [
            "57/57 [==============================] - 1s 11ms/step - loss: 0.3459 - accuracy: 0.8787\n",
            "Test Loss: 0.34587064385414124\n",
            "Test Accuracy: 0.8786635398864746\n"
          ]
        }
      ],
      "source": [
        "test_loss, test_acc = model.evaluate(Test_dataset)\n",
        "\n",
        "print('Test Loss:', test_loss)\n",
        "print('Test Accuracy:', test_acc)"
      ]
    },
    {
      "cell_type": "code",
      "execution_count": null,
      "metadata": {
        "id": "OZmwt_mzaQJk",
        "colab": {
          "base_uri": "https://localhost:8080/",
          "height": 518
        },
        "outputId": "cffa5f63-136c-4af6-aedc-41d826af3f95"
      },
      "outputs": [
        {
          "output_type": "execute_result",
          "data": {
            "text/plain": [
              "(0.0, 0.5543326236307621)"
            ]
          },
          "metadata": {},
          "execution_count": 28
        },
        {
          "output_type": "display_data",
          "data": {
            "image/png": "[encoded data removed]",
            "text/plain": [
              "<Figure size 1152x576 with 2 Axes>"
            ]
          },
          "metadata": {
            "needs_background": "light"
          }
        }
      ],
      "source": [
        "plt.figure(figsize=(16, 8))\n",
        "plt.subplot(1, 2, 1)\n",
        "plot_graphs(history, 'accuracy')\n",
        "plt.ylim(None, 1)\n",
        "plt.subplot(1, 2, 2)\n",
        "plot_graphs(history, 'loss')\n",
        "plt.ylim(0, None)"
      ]
    },
    {
      "cell_type": "code",
      "source": [
        "# Confusion matrix \n",
        "y_pred = model(text_test)\n",
        "y_pred = y_pred > 0.5\n",
        "print(\"Confusion matrix:\")\n",
        "print(confusion_matrix(target_test, y_pred))\n",
        "print(\"Accuracy: {:.2f}%\".format(accuracy_score(target_test, y_pred)*100))"
      ],
      "metadata": {
        "colab": {
          "base_uri": "https://localhost:8080/"
        },
        "id": "alSdGLNYMjod",
        "outputId": "7c5540ce-b1fe-45e4-9763-eb5d40f8944a"
      },
      "execution_count": null,
      "outputs": [
        {
          "output_type": "stream",
          "name": "stdout",
          "text": [
            "Confusion matrix:\n",
            "[[1298   91]\n",
            " [ 136  181]]\n",
            "Accuracy: 86.69%\n"
          ]
        }
      ]
    },
    {
      "cell_type": "code",
      "source": [
        "# Precision score \n",
        "print('Precision: %.3f' % precision_score(target_test, y_pred))"
      ],
      "metadata": {
        "colab": {
          "base_uri": "https://localhost:8080/"
        },
        "id": "VJ4vA2cHMxCj",
        "outputId": "e5ee5c77-3169-4427-c23a-26a6ac6d879a"
      },
      "execution_count": null,
      "outputs": [
        {
          "output_type": "stream",
          "name": "stdout",
          "text": [
            "Precision: 0.665\n"
          ]
        }
      ]
    },
    {
      "cell_type": "code",
      "source": [
        "# Recall score \n",
        "print('Recall: %.3f' % recall_score(target_test, y_pred))"
      ],
      "metadata": {
        "colab": {
          "base_uri": "https://localhost:8080/"
        },
        "id": "PPH5PA2BM1k9",
        "outputId": "2ed0eeb3-7760-4d0b-b1de-53a36ea6fa7f"
      },
      "execution_count": null,
      "outputs": [
        {
          "output_type": "stream",
          "name": "stdout",
          "text": [
            "Recall: 0.571\n"
          ]
        }
      ]
    },
    {
      "cell_type": "code",
      "source": [
        "# F1 Score \n",
        "print('F1 Score: %.3f' % f1_score(target_test, y_pred))"
      ],
      "metadata": {
        "colab": {
          "base_uri": "https://localhost:8080/"
        },
        "id": "Ot8DkJeAM5E0",
        "outputId": "a3df7cc9-b2fb-4e0c-adeb-48f91121de8f"
      },
      "execution_count": null,
      "outputs": [
        {
          "output_type": "stream",
          "name": "stdout",
          "text": [
            "F1 Score: 0.615\n"
          ]
        }
      ]
    },
    {
      "cell_type": "code",
      "execution_count": null,
      "metadata": {
        "id": "jo1jjO3vn0jo"
      },
      "outputs": [],
      "source": [
        "## SECOND MODEL ##\n",
        "# We added 2 layers \n",
        "\n",
        "model2 = tf.keras.Sequential([\n",
        "    encoder,\n",
        "    tf.keras.layers.Embedding(len(encoder.get_vocabulary()), 64, mask_zero=True),\n",
        "    tf.keras.layers.Bidirectional(tf.keras.layers.LSTM(64,  return_sequences=True)),\n",
        "    tf.keras.layers.Bidirectional(tf.keras.layers.LSTM(32)),\n",
        "    tf.keras.layers.Dense(64, activation='relu'),\n",
        "    tf.keras.layers.Dropout(0.5),\n",
        "    tf.keras.layers.Dense(1)\n",
        "])"
      ]
    },
    {
      "cell_type": "code",
      "execution_count": null,
      "metadata": {
        "id": "hEPV5jVGp-is"
      },
      "outputs": [],
      "source": [
        "model2.compile(loss=tf.keras.losses.BinaryCrossentropy(from_logits=True),\n",
        "              optimizer=tf.keras.optimizers.Adam(1e-4),\n",
        "              metrics=['accuracy'])"
      ]
    },
    {
      "cell_type": "code",
      "execution_count": null,
      "metadata": {
        "id": "LeSE-YjdqAeN",
        "colab": {
          "base_uri": "https://localhost:8080/"
        },
        "outputId": "0af3f5bf-5b34-4d6c-e926-42c58c0d52f5"
      },
      "outputs": [
        {
          "output_type": "stream",
          "name": "stdout",
          "text": [
            "Epoch 1/10\n",
            "323/323 [==============================] - 40s 68ms/step - loss: 0.5318 - accuracy: 0.8141 - val_loss: 0.4548 - val_accuracy: 0.8200\n",
            "Epoch 2/10\n",
            "323/323 [==============================] - 21s 65ms/step - loss: 0.3968 - accuracy: 0.8178 - val_loss: 0.3543 - val_accuracy: 0.8344\n",
            "Epoch 3/10\n",
            "323/323 [==============================] - 15s 48ms/step - loss: 0.3154 - accuracy: 0.8714 - val_loss: 0.3231 - val_accuracy: 0.8800\n",
            "Epoch 4/10\n",
            "323/323 [==============================] - 15s 47ms/step - loss: 0.2853 - accuracy: 0.8904 - val_loss: 0.3209 - val_accuracy: 0.8789\n",
            "Epoch 5/10\n",
            "323/323 [==============================] - 15s 48ms/step - loss: 0.2708 - accuracy: 0.8992 - val_loss: 0.3224 - val_accuracy: 0.8867\n",
            "Epoch 6/10\n",
            "323/323 [==============================] - 15s 47ms/step - loss: 0.2563 - accuracy: 0.9053 - val_loss: 0.3262 - val_accuracy: 0.8856\n",
            "Epoch 7/10\n",
            "323/323 [==============================] - 15s 47ms/step - loss: 0.2507 - accuracy: 0.9058 - val_loss: 0.3305 - val_accuracy: 0.8844\n",
            "Epoch 8/10\n",
            "323/323 [==============================] - 15s 47ms/step - loss: 0.2415 - accuracy: 0.9134 - val_loss: 0.3515 - val_accuracy: 0.8789\n",
            "Epoch 9/10\n",
            "323/323 [==============================] - 15s 47ms/step - loss: 0.2332 - accuracy: 0.9160 - val_loss: 0.3472 - val_accuracy: 0.8800\n",
            "Epoch 10/10\n",
            "323/323 [==============================] - 15s 46ms/step - loss: 0.2277 - accuracy: 0.9183 - val_loss: 0.3452 - val_accuracy: 0.8789\n"
          ]
        }
      ],
      "source": [
        "history2 = model2.fit(Train_dataset, epochs=10,\n",
        "                    validation_data=Test_dataset,\n",
        "                    validation_steps=30)"
      ]
    },
    {
      "cell_type": "code",
      "execution_count": null,
      "metadata": {
        "id": "_LdwilM1qPM3",
        "colab": {
          "base_uri": "https://localhost:8080/"
        },
        "outputId": "41a780e0-db44-499c-fc0a-f7d4a2b57e44"
      },
      "outputs": [
        {
          "output_type": "stream",
          "name": "stdout",
          "text": [
            "57/57 [==============================] - 1s 16ms/step - loss: 0.3413 - accuracy: 0.8816\n",
            "Test Loss: 0.341301828622818\n",
            "Test Accuracy: 0.8815943598747253\n"
          ]
        }
      ],
      "source": [
        "test_loss, test_acc = model2.evaluate(Test_dataset)\n",
        "\n",
        "print('Test Loss:', test_loss)\n",
        "print('Test Accuracy:', test_acc)"
      ]
    },
    {
      "cell_type": "code",
      "execution_count": null,
      "metadata": {
        "id": "ykUKnAoqbycW",
        "colab": {
          "base_uri": "https://localhost:8080/"
        },
        "outputId": "21126232-6784-41d2-fd2e-0b9067dad723"
      },
      "outputs": [
        {
          "output_type": "stream",
          "name": "stdout",
          "text": [
            "tf.Tensor([[-4.733909]], shape=(1, 1), dtype=float32)\n"
          ]
        }
      ],
      "source": [
        "# predict on a sample text without padding\n",
        "\n",
        "sample_text = ('Thank you to everyone who has bought a charity phone case so far to support the wildlife victims of Australia’s worst ever…')\n",
        "predictions = model2(np.array([sample_text]))\n",
        "print(predictions)"
      ]
    },
    {
      "cell_type": "code",
      "source": [
        "# predict on a sample text with padding\n",
        "\n",
        "padding = \"you\" * 2000\n",
        "predictions = model2(np.array([sample_text, padding]))\n",
        "print(predictions[0])"
      ],
      "metadata": {
        "id": "GOFG8CJeXK0X"
      },
      "execution_count": null,
      "outputs": []
    },
    {
      "cell_type": "code",
      "source": [
        "sample_text = ('Thank you to everyone who has bought a charity phone case so far to support the wildlife victims of Australia’s worst ever…')\n",
        "predictions = model2(np.array([sample_text]))"
      ],
      "metadata": {
        "id": "RYbS84pZXM5C"
      },
      "execution_count": null,
      "outputs": []
    },
    {
      "cell_type": "code",
      "execution_count": null,
      "metadata": {
        "id": "_YYub0EDtwCu",
        "colab": {
          "base_uri": "https://localhost:8080/",
          "height": 387
        },
        "outputId": "82fbdb40-2585-4f52-df79-e1b239788720"
      },
      "outputs": [
        {
          "output_type": "display_data",
          "data": {
            "image/png": "[encoded data removed]",
            "text/plain": [
              "<Figure size 1152x432 with 2 Axes>"
            ]
          },
          "metadata": {
            "needs_background": "light"
          }
        }
      ],
      "source": [
        "plt.figure(figsize=(16, 6))\n",
        "plt.subplot(1, 2, 1)\n",
        "plot_graphs(history2, 'accuracy')\n",
        "plt.subplot(1, 2, 2)\n",
        "plot_graphs(history2, 'loss')"
      ]
    },
    {
      "cell_type": "code",
      "source": [
        "# Confusion matrix model 2\n",
        "y_pred = model2(text_test)\n",
        "y_pred = y_pred > 0.5\n",
        "print(\"Confusion matrix:\")\n",
        "print(confusion_matrix(target_test, y_pred))\n",
        "print(\"Accuracy: {:.2f}%\".format(accuracy_score(target_test, y_pred)*100))"
      ],
      "metadata": {
        "colab": {
          "base_uri": "https://localhost:8080/"
        },
        "id": "7xzBPExa3uKJ",
        "outputId": "5a35ca44-4672-4fd5-ecb7-4e6bcb1d12ab"
      },
      "execution_count": null,
      "outputs": [
        {
          "output_type": "stream",
          "name": "stdout",
          "text": [
            "Confusion matrix:\n",
            "[[1337   52]\n",
            " [ 150  167]]\n",
            "Accuracy: 88.16%\n"
          ]
        }
      ]
    },
    {
      "cell_type": "code",
      "source": [
        "# Precision score model 2\n",
        "print('Precision: %.3f' % precision_score(target_test, y_pred))"
      ],
      "metadata": {
        "colab": {
          "base_uri": "https://localhost:8080/"
        },
        "id": "i1G_ZnYNEWu3",
        "outputId": "8f7968eb-e43e-40fc-b48f-a360659424d0"
      },
      "execution_count": null,
      "outputs": [
        {
          "output_type": "stream",
          "name": "stdout",
          "text": [
            "Precision: 0.763\n"
          ]
        }
      ]
    },
    {
      "cell_type": "code",
      "source": [
        "# Recall score model 2\n",
        "print('Recall: %.3f' % recall_score(target_test, y_pred))"
      ],
      "metadata": {
        "colab": {
          "base_uri": "https://localhost:8080/"
        },
        "id": "vcePZD47GX3R",
        "outputId": "7e8118b0-ff9e-4b94-e745-1e3bf4bf65b9"
      },
      "execution_count": null,
      "outputs": [
        {
          "output_type": "stream",
          "name": "stdout",
          "text": [
            "Recall: 0.527\n"
          ]
        }
      ]
    },
    {
      "cell_type": "code",
      "source": [
        "# F1 Score model 2\n",
        "print('F1 Score: %.3f' % f1_score(target_test, y_pred))"
      ],
      "metadata": {
        "colab": {
          "base_uri": "https://localhost:8080/"
        },
        "id": "aRohydmIGcEr",
        "outputId": "a1800620-312a-448e-ea4f-5e6f84b6010b"
      },
      "execution_count": null,
      "outputs": [
        {
          "output_type": "stream",
          "name": "stdout",
          "text": [
            "F1 Score: 0.623\n"
          ]
        }
      ]
    }
  ],
  "metadata": {
    "accelerator": "GPU",
    "colab": {
      "collapsed_sections": [],
      "provenance": []
    },
    "kernelspec": {
      "display_name": "Python 3",
      "name": "python3"
    }
  },
  "nbformat": 4,
  "nbformat_minor": 0
}